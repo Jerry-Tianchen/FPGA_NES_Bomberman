{
 "cells": [
  {
   "cell_type": "code",
   "execution_count": 2,
   "metadata": {},
   "outputs": [
    {
     "name": "stdout",
     "output_type": "stream",
     "text": [
      "What is the file name?Test\n"
     ]
    }
   ],
   "source": [
    "import numpy as np\n",
    "\n",
    "filename = input (\"What is the file name?\")"
   ]
  },
  {
   "cell_type": "code",
   "execution_count": null,
   "metadata": {},
   "outputs": [],
   "source": [
    "# MIF File generator\n",
    "W_file_n = filename + '.mif'\n",
    "R_file_n = filename + '_16.txt'\n",
    "\n",
    "R_file = open(R_file_n,'r')\n",
    "W_file = open(W_file_n,'w')\n",
    "\n",
    "W_file.write(\"-- begin_signature\\n-- ram_153601x16\\n-- end_signature)\"\n",
    "W_file.write(\"WIDTH=16;\\nDEPTH=153601;\\n\")\n",
    "W_file.write(\"\\n\")\n",
    "W_file.write(\"ADDRESS_RADIX=UNS;\\nDATA_RADIX=BIN;\\n\")\n",
    "             \n",
    "             \n",
    "for r in range\n",
    "WIDTH=16;\n",
    "DEPTH=153601;\n",
    "\n",
    "ADDRESS_RADIX=UNS;\n",
    "DATA_RADIX=BIN;\")"
   ]
  }
 ],
 "metadata": {
  "kernelspec": {
   "display_name": "Python 3",
   "language": "python",
   "name": "python3"
  },
  "language_info": {
   "codemirror_mode": {
    "name": "ipython",
    "version": 3
   },
   "file_extension": ".py",
   "mimetype": "text/x-python",
   "name": "python",
   "nbconvert_exporter": "python",
   "pygments_lexer": "ipython3",
   "version": "3.7.3"
  }
 },
 "nbformat": 4,
 "nbformat_minor": 2
}
